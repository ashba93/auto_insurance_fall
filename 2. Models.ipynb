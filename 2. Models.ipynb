{
 "cells": [
  {
   "cell_type": "code",
   "execution_count": 1,
   "metadata": {},
   "outputs": [],
   "source": [
    "# import libraries\n",
    "\n",
    "import pandas as pd\n",
    "import numpy as np\n",
    "from sklearn.preprocessing import StandardScaler\n",
    "from sklearn.pipeline import Pipeline\n",
    "from sklearn.linear_model import LogisticRegression\n",
    "from sklearn.ensemble import RandomForestClassifier\n",
    "from sklearn.model_selection import train_test_split, StratifiedKFold, GridSearchCV\n",
    "from sklearn.metrics import f1_score\n",
    "import pickle\n",
    "from xgboost import XGBClassifier\n",
    "from catboost import CatBoostClassifier\n",
    "import os\n",
    "import warnings\n",
    "warnings.filterwarnings('ignore')"
   ]
  },
  {
   "cell_type": "code",
   "execution_count": 2,
   "metadata": {},
   "outputs": [],
   "source": [
    "# set pandas visualization options\n",
    "\n",
    "pd.set_option('display.max_rows', 500)\n",
    "pd.set_option('display.max_columns', 500)\n",
    "pd.set_option('display.width', 1000)"
   ]
  },
  {
   "cell_type": "code",
   "execution_count": 3,
   "metadata": {},
   "outputs": [],
   "source": [
    "# read train preprocessed\n",
    "\n",
    "base_path=os.path.abspath(os.getcwd())\n",
    "\n",
    "train=pd.read_csv(base_path+\"\\\\data-scientist-technical-test-main\\\\data\\\\auto-insurance-fall-2017\\\\train_auto_preproc.csv\", sep=\",\", header=0)"
   ]
  },
  {
   "cell_type": "code",
   "execution_count": 4,
   "metadata": {},
   "outputs": [],
   "source": [
    "#drop extra column\n",
    "\n",
    "drop_col = [\"Unnamed: 0\"]\n",
    "target_col=[\"TARGET_FLAG\"]\n",
    "\n",
    "train.drop(columns=drop_col, axis=1, inplace=True)\n",
    "\n",
    "# divide X,y\n",
    "X=train.drop(columns=target_col, axis=1)\n",
    "y=train[target_col].values"
   ]
  },
  {
   "cell_type": "code",
   "execution_count": 5,
   "metadata": {},
   "outputs": [],
   "source": [
    "# create 5-folds\n",
    "\n",
    "n_splits = 5\n",
    "\n",
    "X_train, X_val, y_train, y_val = train_test_split(X, y, test_size=0.2, random_state=18, stratify=y)\n",
    "\n",
    "kf = StratifiedKFold(n_splits=n_splits, shuffle=True, random_state=18)"
   ]
  },
  {
   "cell_type": "markdown",
   "metadata": {},
   "source": [
    "## logistic regression"
   ]
  },
  {
   "cell_type": "code",
   "execution_count": 6,
   "metadata": {},
   "outputs": [],
   "source": [
    "# create pipeline object to standardize data for LR\n",
    "\n",
    "pipe = Pipeline(steps=[('standard_scaler', StandardScaler()),\n",
    "                       ('LR', LogisticRegression(random_state=18,\n",
    "                                                 max_iter=200))])"
   ]
  },
  {
   "cell_type": "code",
   "execution_count": 7,
   "metadata": {
    "scrolled": true
   },
   "outputs": [
    {
     "name": "stdout",
     "output_type": "stream",
     "text": [
      "Fitting 5 folds for each of 18 candidates, totalling 90 fits\n",
      "0.5029242287860396\n"
     ]
    }
   ],
   "source": [
    "param_grid = dict(LR__penalty = ['l1', 'l2', 'elasticnet'],\n",
    "                  LR__C = np.logspace(-2, 3, 6))\n",
    "\n",
    "grid = GridSearchCV(pipe,\n",
    "                    param_grid=param_grid,\n",
    "                    cv=kf, \n",
    "                    verbose=1,\n",
    "                    scoring='f1',\n",
    "                    return_train_score=True)\n",
    "grid.fit(X_train, y_train)\n",
    "print(grid.best_score_)"
   ]
  },
  {
   "cell_type": "code",
   "execution_count": 8,
   "metadata": {},
   "outputs": [
    {
     "data": {
      "text/html": [
       "<div>\n",
       "<style scoped>\n",
       "    .dataframe tbody tr th:only-of-type {\n",
       "        vertical-align: middle;\n",
       "    }\n",
       "\n",
       "    .dataframe tbody tr th {\n",
       "        vertical-align: top;\n",
       "    }\n",
       "\n",
       "    .dataframe thead th {\n",
       "        text-align: right;\n",
       "    }\n",
       "</style>\n",
       "<table border=\"1\" class=\"dataframe\">\n",
       "  <thead>\n",
       "    <tr style=\"text-align: right;\">\n",
       "      <th></th>\n",
       "      <th>param_LR__C</th>\n",
       "      <th>param_LR__penalty</th>\n",
       "      <th>mean_test_score</th>\n",
       "      <th>std_test_score</th>\n",
       "      <th>rank_test_score</th>\n",
       "    </tr>\n",
       "  </thead>\n",
       "  <tbody>\n",
       "    <tr>\n",
       "      <th>13</th>\n",
       "      <td>100.0</td>\n",
       "      <td>l2</td>\n",
       "      <td>0.502924</td>\n",
       "      <td>0.023478</td>\n",
       "      <td>1</td>\n",
       "    </tr>\n",
       "    <tr>\n",
       "      <th>16</th>\n",
       "      <td>1000.0</td>\n",
       "      <td>l2</td>\n",
       "      <td>0.502924</td>\n",
       "      <td>0.023478</td>\n",
       "      <td>1</td>\n",
       "    </tr>\n",
       "    <tr>\n",
       "      <th>10</th>\n",
       "      <td>10.0</td>\n",
       "      <td>l2</td>\n",
       "      <td>0.502392</td>\n",
       "      <td>0.023222</td>\n",
       "      <td>3</td>\n",
       "    </tr>\n",
       "    <tr>\n",
       "      <th>7</th>\n",
       "      <td>1.0</td>\n",
       "      <td>l2</td>\n",
       "      <td>0.502035</td>\n",
       "      <td>0.023958</td>\n",
       "      <td>4</td>\n",
       "    </tr>\n",
       "    <tr>\n",
       "      <th>4</th>\n",
       "      <td>0.1</td>\n",
       "      <td>l2</td>\n",
       "      <td>0.498298</td>\n",
       "      <td>0.023587</td>\n",
       "      <td>5</td>\n",
       "    </tr>\n",
       "  </tbody>\n",
       "</table>\n",
       "</div>"
      ],
      "text/plain": [
       "   param_LR__C param_LR__penalty  mean_test_score  std_test_score  rank_test_score\n",
       "13       100.0                l2         0.502924        0.023478                1\n",
       "16      1000.0                l2         0.502924        0.023478                1\n",
       "10        10.0                l2         0.502392        0.023222                3\n",
       "7          1.0                l2         0.502035        0.023958                4\n",
       "4          0.1                l2         0.498298        0.023587                5"
      ]
     },
     "execution_count": 8,
     "metadata": {},
     "output_type": "execute_result"
    }
   ],
   "source": [
    "#show cv results\n",
    "cv_results = pd.DataFrame(grid.cv_results_)\n",
    "cv_results = cv_results.sort_values(\"mean_test_score\", ascending=False)\n",
    "cv_results[['param_LR__C',\n",
    "            'param_LR__penalty', \n",
    "            'mean_test_score',\n",
    "            'std_test_score',\n",
    "            'rank_test_score']].head(5)"
   ]
  },
  {
   "cell_type": "code",
   "execution_count": 9,
   "metadata": {},
   "outputs": [
    {
     "name": "stdout",
     "output_type": "stream",
     "text": [
      "100.0 l2\n"
     ]
    }
   ],
   "source": [
    "C=cv_results[['param_LR__C', 'param_LR__penalty']].iloc[0,:].values[0]\n",
    "penalty=cv_results[['param_LR__C', 'param_LR__penalty']].iloc[0,:].values[1]\n",
    "print(C, penalty)"
   ]
  },
  {
   "cell_type": "code",
   "execution_count": 10,
   "metadata": {},
   "outputs": [],
   "source": [
    "ss=StandardScaler()\n",
    "X_transf=ss.fit_transform(X_train)\n",
    "lr=LogisticRegression(random_state=18,\n",
    "                      C=C,\n",
    "                      penalty=penalty).fit(X_transf,y_train)"
   ]
  },
  {
   "cell_type": "code",
   "execution_count": 11,
   "metadata": {},
   "outputs": [
    {
     "data": {
      "text/plain": [
       "0.49715909090909105"
      ]
     },
     "execution_count": 11,
     "metadata": {},
     "output_type": "execute_result"
    }
   ],
   "source": [
    "# f1 prediction on validation set\n",
    "ss=StandardScaler()\n",
    "X_val_transf=ss.fit_transform(X_val)\n",
    "y_pred = lr.predict(X_val_transf)\n",
    "f1_score(y_val, y_pred)"
   ]
  },
  {
   "cell_type": "code",
   "execution_count": 12,
   "metadata": {},
   "outputs": [],
   "source": [
    "# save LR model\n",
    "pickle.dump(lr, open(base_path+\"\\\\data-scientist-technical-test-main\\\\data\\\\auto-insurance-fall-2017\\\\models\\\\LR.pkl\", 'wb'))"
   ]
  },
  {
   "cell_type": "markdown",
   "metadata": {},
   "source": [
    "## random forest"
   ]
  },
  {
   "cell_type": "code",
   "execution_count": 13,
   "metadata": {
    "scrolled": true
   },
   "outputs": [
    {
     "name": "stdout",
     "output_type": "stream",
     "text": [
      "Fitting 5 folds for each of 12 candidates, totalling 60 fits\n",
      "0.39877290971217794\n"
     ]
    }
   ],
   "source": [
    "# create pipeline object to standardize data for RF\n",
    "\n",
    "pipe = Pipeline(steps=[('RFC', RandomForestClassifier())])\n",
    "\n",
    "param_grid = dict(RFC__max_depth = [5,7,9],\n",
    "                  RFC__n_estimators = [25,50,75,100])\n",
    "\n",
    "grid = GridSearchCV(pipe,\n",
    "                    param_grid=param_grid,\n",
    "                    cv=kf, \n",
    "                    verbose=1,\n",
    "                    scoring='f1',\n",
    "                    return_train_score=True)\n",
    "grid.fit(X_train, y_train)\n",
    "print(grid.best_score_)"
   ]
  },
  {
   "cell_type": "code",
   "execution_count": 14,
   "metadata": {},
   "outputs": [
    {
     "data": {
      "text/html": [
       "<div>\n",
       "<style scoped>\n",
       "    .dataframe tbody tr th:only-of-type {\n",
       "        vertical-align: middle;\n",
       "    }\n",
       "\n",
       "    .dataframe tbody tr th {\n",
       "        vertical-align: top;\n",
       "    }\n",
       "\n",
       "    .dataframe thead th {\n",
       "        text-align: right;\n",
       "    }\n",
       "</style>\n",
       "<table border=\"1\" class=\"dataframe\">\n",
       "  <thead>\n",
       "    <tr style=\"text-align: right;\">\n",
       "      <th></th>\n",
       "      <th>param_RFC__max_depth</th>\n",
       "      <th>param_RFC__n_estimators</th>\n",
       "      <th>mean_test_score</th>\n",
       "      <th>std_test_score</th>\n",
       "      <th>rank_test_score</th>\n",
       "    </tr>\n",
       "  </thead>\n",
       "  <tbody>\n",
       "    <tr>\n",
       "      <th>9</th>\n",
       "      <td>9</td>\n",
       "      <td>50</td>\n",
       "      <td>0.398773</td>\n",
       "      <td>0.032228</td>\n",
       "      <td>1</td>\n",
       "    </tr>\n",
       "    <tr>\n",
       "      <th>8</th>\n",
       "      <td>9</td>\n",
       "      <td>25</td>\n",
       "      <td>0.392902</td>\n",
       "      <td>0.014698</td>\n",
       "      <td>2</td>\n",
       "    </tr>\n",
       "    <tr>\n",
       "      <th>10</th>\n",
       "      <td>9</td>\n",
       "      <td>75</td>\n",
       "      <td>0.389545</td>\n",
       "      <td>0.020672</td>\n",
       "      <td>3</td>\n",
       "    </tr>\n",
       "    <tr>\n",
       "      <th>11</th>\n",
       "      <td>9</td>\n",
       "      <td>100</td>\n",
       "      <td>0.382000</td>\n",
       "      <td>0.012735</td>\n",
       "      <td>4</td>\n",
       "    </tr>\n",
       "    <tr>\n",
       "      <th>4</th>\n",
       "      <td>7</td>\n",
       "      <td>25</td>\n",
       "      <td>0.331225</td>\n",
       "      <td>0.024670</td>\n",
       "      <td>5</td>\n",
       "    </tr>\n",
       "  </tbody>\n",
       "</table>\n",
       "</div>"
      ],
      "text/plain": [
       "   param_RFC__max_depth param_RFC__n_estimators  mean_test_score  std_test_score  rank_test_score\n",
       "9                     9                      50         0.398773        0.032228                1\n",
       "8                     9                      25         0.392902        0.014698                2\n",
       "10                    9                      75         0.389545        0.020672                3\n",
       "11                    9                     100         0.382000        0.012735                4\n",
       "4                     7                      25         0.331225        0.024670                5"
      ]
     },
     "execution_count": 14,
     "metadata": {},
     "output_type": "execute_result"
    }
   ],
   "source": [
    "#show cv results\n",
    "cv_results = pd.DataFrame(grid.cv_results_)\n",
    "cv_results = cv_results.sort_values(\"mean_test_score\", ascending=False)\n",
    "cv_results[['param_RFC__max_depth',\n",
    "            'param_RFC__n_estimators', \n",
    "            'mean_test_score',\n",
    "            'std_test_score',\n",
    "            'rank_test_score']].head(5)"
   ]
  },
  {
   "cell_type": "code",
   "execution_count": 15,
   "metadata": {},
   "outputs": [
    {
     "name": "stdout",
     "output_type": "stream",
     "text": [
      "9 50\n"
     ]
    }
   ],
   "source": [
    "max_depth=cv_results[['param_RFC__max_depth', 'param_RFC__n_estimators']].iloc[0,:].values[0]\n",
    "n_estimators=cv_results[['param_RFC__max_depth', 'param_RFC__n_estimators']].iloc[0,:].values[1]\n",
    "print(max_depth, n_estimators)"
   ]
  },
  {
   "cell_type": "code",
   "execution_count": 16,
   "metadata": {},
   "outputs": [],
   "source": [
    "rf=RandomForestClassifier(max_depth=max_depth,\n",
    "                          n_estimators=n_estimators,\n",
    "                          random_state=18).fit(X_train, y_train)"
   ]
  },
  {
   "cell_type": "code",
   "execution_count": 17,
   "metadata": {},
   "outputs": [
    {
     "data": {
      "text/plain": [
       "0.3793103448275862"
      ]
     },
     "execution_count": 17,
     "metadata": {},
     "output_type": "execute_result"
    }
   ],
   "source": [
    "# f1 prediction on validation set\n",
    "\n",
    "y_pred = rf.predict(X_val)\n",
    "f1_score(y_val, y_pred)"
   ]
  },
  {
   "cell_type": "code",
   "execution_count": 18,
   "metadata": {},
   "outputs": [],
   "source": [
    "# save RF model\n",
    "pickle.dump(rf, open(base_path+\"\\\\data-scientist-technical-test-main\\\\data\\\\auto-insurance-fall-2017\\\\models\\\\RF.pkl\", 'wb'))"
   ]
  },
  {
   "cell_type": "markdown",
   "metadata": {},
   "source": [
    "## XGBoost"
   ]
  },
  {
   "cell_type": "code",
   "execution_count": 19,
   "metadata": {
    "scrolled": true
   },
   "outputs": [
    {
     "name": "stdout",
     "output_type": "stream",
     "text": [
      "[14:29:27] WARNING: C:/Users/Administrator/workspace/xgboost-win64_release_1.5.1/src/learner.cc:1115: Starting in XGBoost 1.3.0, the default evaluation metric used with the objective 'binary:logistic' was changed from 'error' to 'logloss'. Explicitly set eval_metric if you'd like to restore the old behavior.\n",
      "0.5305252438289872\n"
     ]
    }
   ],
   "source": [
    "# create pipeline object to standardize data for XGB\n",
    "\n",
    "pipe = Pipeline(steps=[('XGB', XGBClassifier())])\n",
    "\n",
    "param_grid = dict(XGB__max_depth = [5,7],\n",
    "                  XGB__n_estimators = [100,150,200],\n",
    "                  XGB__eta = [0.1,0.2],\n",
    "                  XGB__subsample = [0.9],\n",
    "                  XGB__colsample_bytree = [0.9],\n",
    "                  XGB__seed = [18])\n",
    "\n",
    "grid = GridSearchCV(pipe,\n",
    "                    param_grid=param_grid,\n",
    "                    cv=kf, \n",
    "                    verbose=0,\n",
    "                    scoring='f1',\n",
    "                    return_train_score=True,\n",
    "                    n_jobs=-2)\n",
    "grid.fit(X_train, y_train)\n",
    "print(grid.best_score_)"
   ]
  },
  {
   "cell_type": "code",
   "execution_count": 20,
   "metadata": {},
   "outputs": [
    {
     "data": {
      "text/html": [
       "<div>\n",
       "<style scoped>\n",
       "    .dataframe tbody tr th:only-of-type {\n",
       "        vertical-align: middle;\n",
       "    }\n",
       "\n",
       "    .dataframe tbody tr th {\n",
       "        vertical-align: top;\n",
       "    }\n",
       "\n",
       "    .dataframe thead th {\n",
       "        text-align: right;\n",
       "    }\n",
       "</style>\n",
       "<table border=\"1\" class=\"dataframe\">\n",
       "  <thead>\n",
       "    <tr style=\"text-align: right;\">\n",
       "      <th></th>\n",
       "      <th>param_XGB__max_depth</th>\n",
       "      <th>param_XGB__n_estimators</th>\n",
       "      <th>param_XGB__eta</th>\n",
       "      <th>mean_test_score</th>\n",
       "      <th>std_test_score</th>\n",
       "      <th>rank_test_score</th>\n",
       "    </tr>\n",
       "  </thead>\n",
       "  <tbody>\n",
       "    <tr>\n",
       "      <th>0</th>\n",
       "      <td>5</td>\n",
       "      <td>100</td>\n",
       "      <td>0.1</td>\n",
       "      <td>0.530525</td>\n",
       "      <td>0.009204</td>\n",
       "      <td>1</td>\n",
       "    </tr>\n",
       "    <tr>\n",
       "      <th>1</th>\n",
       "      <td>5</td>\n",
       "      <td>150</td>\n",
       "      <td>0.1</td>\n",
       "      <td>0.529288</td>\n",
       "      <td>0.005160</td>\n",
       "      <td>2</td>\n",
       "    </tr>\n",
       "    <tr>\n",
       "      <th>11</th>\n",
       "      <td>7</td>\n",
       "      <td>200</td>\n",
       "      <td>0.2</td>\n",
       "      <td>0.528039</td>\n",
       "      <td>0.009338</td>\n",
       "      <td>3</td>\n",
       "    </tr>\n",
       "    <tr>\n",
       "      <th>7</th>\n",
       "      <td>5</td>\n",
       "      <td>150</td>\n",
       "      <td>0.2</td>\n",
       "      <td>0.526407</td>\n",
       "      <td>0.023277</td>\n",
       "      <td>4</td>\n",
       "    </tr>\n",
       "    <tr>\n",
       "      <th>6</th>\n",
       "      <td>5</td>\n",
       "      <td>100</td>\n",
       "      <td>0.2</td>\n",
       "      <td>0.526218</td>\n",
       "      <td>0.015879</td>\n",
       "      <td>5</td>\n",
       "    </tr>\n",
       "  </tbody>\n",
       "</table>\n",
       "</div>"
      ],
      "text/plain": [
       "   param_XGB__max_depth param_XGB__n_estimators param_XGB__eta  mean_test_score  std_test_score  rank_test_score\n",
       "0                     5                     100            0.1         0.530525        0.009204                1\n",
       "1                     5                     150            0.1         0.529288        0.005160                2\n",
       "11                    7                     200            0.2         0.528039        0.009338                3\n",
       "7                     5                     150            0.2         0.526407        0.023277                4\n",
       "6                     5                     100            0.2         0.526218        0.015879                5"
      ]
     },
     "execution_count": 20,
     "metadata": {},
     "output_type": "execute_result"
    }
   ],
   "source": [
    "#show cv results\n",
    "cv_results = pd.DataFrame(grid.cv_results_)\n",
    "cv_results = cv_results.sort_values(\"mean_test_score\", ascending=False)\n",
    "cv_results[['param_XGB__max_depth',\n",
    "            'param_XGB__n_estimators',\n",
    "            'param_XGB__eta',\n",
    "            'mean_test_score',\n",
    "            'std_test_score',\n",
    "            'rank_test_score']].head(5)"
   ]
  },
  {
   "cell_type": "code",
   "execution_count": 21,
   "metadata": {},
   "outputs": [
    {
     "name": "stdout",
     "output_type": "stream",
     "text": [
      "5 100 0.1\n"
     ]
    }
   ],
   "source": [
    "max_depth=cv_results[['param_XGB__max_depth', 'param_XGB__n_estimators', 'param_XGB__eta']].iloc[0,:].values[0]\n",
    "n_estimators=cv_results[['param_XGB__max_depth', 'param_XGB__n_estimators', 'param_XGB__eta']].iloc[0,:].values[1]\n",
    "eta=cv_results[['param_XGB__max_depth', 'param_XGB__n_estimators', 'param_XGB__eta']].iloc[0,:].values[2]\n",
    "print(max_depth, n_estimators, eta)"
   ]
  },
  {
   "cell_type": "code",
   "execution_count": 22,
   "metadata": {},
   "outputs": [
    {
     "name": "stdout",
     "output_type": "stream",
     "text": [
      "[14:29:27] WARNING: C:/Users/Administrator/workspace/xgboost-win64_release_1.5.1/src/learner.cc:1115: Starting in XGBoost 1.3.0, the default evaluation metric used with the objective 'binary:logistic' was changed from 'error' to 'logloss'. Explicitly set eval_metric if you'd like to restore the old behavior.\n"
     ]
    }
   ],
   "source": [
    "xgb = XGBClassifier(objective=\"binary:logistic\",\n",
    "                    max_depth=max_depth,\n",
    "                    n_estimators=n_estimators,\n",
    "                    eta=eta,\n",
    "                    subsample=0.9,\n",
    "                    colsample_bytree=0.9,\n",
    "                    seed=18).fit(X_train,y_train)"
   ]
  },
  {
   "cell_type": "code",
   "execution_count": 23,
   "metadata": {},
   "outputs": [
    {
     "data": {
      "text/plain": [
       "0.5092460881934567"
      ]
     },
     "execution_count": 23,
     "metadata": {},
     "output_type": "execute_result"
    }
   ],
   "source": [
    "# f1 prediction on validation set\n",
    "\n",
    "y_pred = xgb.predict(X_val)\n",
    "f1_score(y_val, y_pred)"
   ]
  },
  {
   "cell_type": "code",
   "execution_count": 24,
   "metadata": {},
   "outputs": [],
   "source": [
    "# save XGB model\n",
    "pickle.dump(xgb, open(base_path+\"\\\\data-scientist-technical-test-main\\\\data\\\\auto-insurance-fall-2017\\\\models\\\\XGB.pkl\", 'wb'))"
   ]
  },
  {
   "cell_type": "markdown",
   "metadata": {},
   "source": [
    "## catboost"
   ]
  },
  {
   "cell_type": "code",
   "execution_count": 25,
   "metadata": {
    "scrolled": true
   },
   "outputs": [
    {
     "name": "stdout",
     "output_type": "stream",
     "text": [
      "0.5325305466588336\n"
     ]
    }
   ],
   "source": [
    "# create pipeline object to standardize data for catboost\n",
    "\n",
    "pipe = Pipeline(steps=[('CBC', CatBoostClassifier())])\n",
    "\n",
    "param_grid = dict(CBC__iterations=[50,100,200],\n",
    "                  CBC__learning_rate=[0.1,0.2],\n",
    "                  CBC__silent=[True],\n",
    "                  CBC__depth=[5,7])\n",
    "\n",
    "grid = GridSearchCV(pipe,\n",
    "                    param_grid=param_grid,\n",
    "                    cv=kf, \n",
    "                    verbose=0,\n",
    "                    scoring='f1',\n",
    "                    return_train_score=True,\n",
    "                    n_jobs=-1)\n",
    "grid.fit(X_train, y_train)\n",
    "print(grid.best_score_)"
   ]
  },
  {
   "cell_type": "code",
   "execution_count": 26,
   "metadata": {},
   "outputs": [
    {
     "data": {
      "text/html": [
       "<div>\n",
       "<style scoped>\n",
       "    .dataframe tbody tr th:only-of-type {\n",
       "        vertical-align: middle;\n",
       "    }\n",
       "\n",
       "    .dataframe tbody tr th {\n",
       "        vertical-align: top;\n",
       "    }\n",
       "\n",
       "    .dataframe thead th {\n",
       "        text-align: right;\n",
       "    }\n",
       "</style>\n",
       "<table border=\"1\" class=\"dataframe\">\n",
       "  <thead>\n",
       "    <tr style=\"text-align: right;\">\n",
       "      <th></th>\n",
       "      <th>param_CBC__iterations</th>\n",
       "      <th>param_CBC__learning_rate</th>\n",
       "      <th>param_CBC__depth</th>\n",
       "      <th>mean_test_score</th>\n",
       "      <th>std_test_score</th>\n",
       "      <th>rank_test_score</th>\n",
       "    </tr>\n",
       "  </thead>\n",
       "  <tbody>\n",
       "    <tr>\n",
       "      <th>3</th>\n",
       "      <td>100</td>\n",
       "      <td>0.2</td>\n",
       "      <td>5</td>\n",
       "      <td>0.532531</td>\n",
       "      <td>0.016446</td>\n",
       "      <td>1</td>\n",
       "    </tr>\n",
       "    <tr>\n",
       "      <th>11</th>\n",
       "      <td>200</td>\n",
       "      <td>0.2</td>\n",
       "      <td>7</td>\n",
       "      <td>0.530823</td>\n",
       "      <td>0.008889</td>\n",
       "      <td>2</td>\n",
       "    </tr>\n",
       "    <tr>\n",
       "      <th>9</th>\n",
       "      <td>100</td>\n",
       "      <td>0.2</td>\n",
       "      <td>7</td>\n",
       "      <td>0.528333</td>\n",
       "      <td>0.008278</td>\n",
       "      <td>3</td>\n",
       "    </tr>\n",
       "    <tr>\n",
       "      <th>5</th>\n",
       "      <td>200</td>\n",
       "      <td>0.2</td>\n",
       "      <td>5</td>\n",
       "      <td>0.526400</td>\n",
       "      <td>0.021094</td>\n",
       "      <td>4</td>\n",
       "    </tr>\n",
       "    <tr>\n",
       "      <th>10</th>\n",
       "      <td>200</td>\n",
       "      <td>0.1</td>\n",
       "      <td>7</td>\n",
       "      <td>0.523968</td>\n",
       "      <td>0.009599</td>\n",
       "      <td>5</td>\n",
       "    </tr>\n",
       "  </tbody>\n",
       "</table>\n",
       "</div>"
      ],
      "text/plain": [
       "   param_CBC__iterations param_CBC__learning_rate param_CBC__depth  mean_test_score  std_test_score  rank_test_score\n",
       "3                    100                      0.2                5         0.532531        0.016446                1\n",
       "11                   200                      0.2                7         0.530823        0.008889                2\n",
       "9                    100                      0.2                7         0.528333        0.008278                3\n",
       "5                    200                      0.2                5         0.526400        0.021094                4\n",
       "10                   200                      0.1                7         0.523968        0.009599                5"
      ]
     },
     "execution_count": 26,
     "metadata": {},
     "output_type": "execute_result"
    }
   ],
   "source": [
    "#show cv results\n",
    "cv_results = pd.DataFrame(grid.cv_results_)\n",
    "cv_results = cv_results.sort_values(\"mean_test_score\", ascending=False)\n",
    "cv_results[['param_CBC__iterations',\n",
    "            'param_CBC__learning_rate',\n",
    "            'param_CBC__depth',\n",
    "            'mean_test_score',\n",
    "            'std_test_score',\n",
    "            'rank_test_score']].head(5)"
   ]
  },
  {
   "cell_type": "code",
   "execution_count": 27,
   "metadata": {},
   "outputs": [
    {
     "name": "stdout",
     "output_type": "stream",
     "text": [
      "100 0.2 5\n"
     ]
    }
   ],
   "source": [
    "iterations=cv_results[['param_CBC__iterations', 'param_CBC__learning_rate', 'param_CBC__depth']].iloc[0,:].values[0]\n",
    "learning_rate=cv_results[['param_CBC__iterations', 'param_CBC__learning_rate', 'param_CBC__depth']].iloc[0,:].values[1]\n",
    "depth=cv_results[['param_CBC__iterations', 'param_CBC__learning_rate', 'param_CBC__depth']].iloc[0,:].values[2]\n",
    "print(iterations, learning_rate, depth)"
   ]
  },
  {
   "cell_type": "code",
   "execution_count": 28,
   "metadata": {
    "scrolled": true
   },
   "outputs": [],
   "source": [
    "cbc = CatBoostClassifier(iterations=iterations,\n",
    "                         learning_rate=learning_rate,\n",
    "                         silent=True,\n",
    "                         depth=depth).fit(X_train,y_train)"
   ]
  },
  {
   "cell_type": "code",
   "execution_count": 29,
   "metadata": {},
   "outputs": [
    {
     "data": {
      "text/plain": [
       "0.5276595744680851"
      ]
     },
     "execution_count": 29,
     "metadata": {},
     "output_type": "execute_result"
    }
   ],
   "source": [
    "# f1 prediction on validation set\n",
    "\n",
    "y_pred = cbc.predict(X_val)\n",
    "f1_score(y_val, y_pred)"
   ]
  },
  {
   "cell_type": "code",
   "execution_count": 30,
   "metadata": {},
   "outputs": [],
   "source": [
    "# save XGB model\n",
    "pickle.dump(cbc, open(base_path+\"\\\\data-scientist-technical-test-main\\\\data\\\\auto-insurance-fall-2017\\\\models\\\\CBC.pkl\", 'wb'))"
   ]
  },
  {
   "cell_type": "code",
   "execution_count": null,
   "metadata": {},
   "outputs": [],
   "source": []
  }
 ],
 "metadata": {
  "kernelspec": {
   "display_name": "Python 3",
   "language": "python",
   "name": "python3"
  },
  "language_info": {
   "codemirror_mode": {
    "name": "ipython",
    "version": 3
   },
   "file_extension": ".py",
   "mimetype": "text/x-python",
   "name": "python",
   "nbconvert_exporter": "python",
   "pygments_lexer": "ipython3",
   "version": "3.7.6"
  }
 },
 "nbformat": 4,
 "nbformat_minor": 4
}
