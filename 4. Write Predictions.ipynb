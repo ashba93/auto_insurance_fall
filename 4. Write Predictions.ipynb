{
 "cells": [
  {
   "cell_type": "code",
   "execution_count": 1,
   "metadata": {},
   "outputs": [],
   "source": [
    "# import libraries\n",
    "import pickle\n",
    "import pandas as pd\n",
    "import numpy as np\n",
    "import os"
   ]
  },
  {
   "cell_type": "code",
   "execution_count": null,
   "metadata": {},
   "outputs": [],
   "source": [
    "# import ensemble model\n",
    "\n",
    "base_path=os.path.abspath(os.getcwd())\n",
    "\n",
    "model=pickle.load(open(base_path+\"\\\\data-scientist-technical-test-main\\\\data\\\\auto-insurance-fall-2017\\\\models\\\\Ensemble.pkl\", 'rb'))\n",
    "\n",
    "# read test\n",
    "\n",
    "df_test=pd.read_csv(base_path+\"\\\\data-scientist-technical-test-main\\\\data\\\\auto-insurance-fall-2017\\\\test_auto_preproc.csv\", sep=\",\")"
   ]
  },
  {
   "cell_type": "code",
   "execution_count": null,
   "metadata": {},
   "outputs": [],
   "source": [
    "# drop useless cols\n",
    "\n",
    "drop_cols = [\"Unnamed: 0\", \"TARGET_FLAG\"]\n",
    "df_test.drop(columns=drop_cols, inplace=True)"
   ]
  },
  {
   "cell_type": "code",
   "execution_count": null,
   "metadata": {},
   "outputs": [],
   "source": [
    "# calculate model predictions\n",
    "\n",
    "predictions = model.predict(df_test)\n",
    "prob_pred = model.predict_proba(df_test)[:,1]\n",
    "prob_pred = np.around(prob_pred, 4)"
   ]
  },
  {
   "cell_type": "code",
   "execution_count": null,
   "metadata": {},
   "outputs": [],
   "source": [
    "# dataframe predictions model\n",
    "df_pred=pd.DataFrame(predictions.reshape(-1,1),\n",
    "                     columns=[\"predictions\"])\n",
    "\n",
    "# dataframe predictions probabilites\n",
    "df_prob=pd.DataFrame(prob_pred.reshape(-1,1),\n",
    "                      columns=[\"probabilites\"])\n",
    "\n",
    "# concatenate both dataframes\n",
    "df_final=pd.concat([df_pred,df_prob],axis=1)\n",
    "\n",
    "# take dataframe index\n",
    "df_final['idx'] = df_final.index\n",
    "\n",
    "# write to csv\n",
    "df_final[['idx', 'predictions', 'probabilites']].to_csv(base_path+\"\\\\data-scientist-technical-test-main\\\\data\\\\auto-insurance-fall-2017\\\\outputs\\\\predictions.csv\", sep=\";\", index=False)"
   ]
  },
  {
   "cell_type": "code",
   "execution_count": null,
   "metadata": {},
   "outputs": [],
   "source": []
  }
 ],
 "metadata": {
  "kernelspec": {
   "display_name": "Python 3",
   "language": "python",
   "name": "python3"
  },
  "language_info": {
   "codemirror_mode": {
    "name": "ipython",
    "version": 3
   },
   "file_extension": ".py",
   "mimetype": "text/x-python",
   "name": "python",
   "nbconvert_exporter": "python",
   "pygments_lexer": "ipython3",
   "version": "3.7.6"
  }
 },
 "nbformat": 4,
 "nbformat_minor": 4
}
